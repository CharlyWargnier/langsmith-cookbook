{
 "cells": [
  {
   "cell_type": "code",
   "execution_count": null,
   "id": "d0c1db21-6662-46b4-b661-118b05d80e89",
   "metadata": {},
   "outputs": [
    {
     "data": {
      "application/vnd.jupyter.widget-view+json": {
       "model_id": "",
       "version_major": 2,
       "version_minor": 0
      },
      "text/plain": [
       "Downloading builder script:   0%|          | 0.00/5.88k [00:00<?, ?B/s]"
      ]
     },
     "metadata": {},
     "output_type": "display_data"
    },
    {
     "data": {
      "application/vnd.jupyter.widget-view+json": {
       "model_id": "",
       "version_major": 2,
       "version_minor": 0
      },
      "text/plain": [
       "Downloading metadata:   0%|          | 0.00/2.06k [00:00<?, ?B/s]"
      ]
     },
     "metadata": {},
     "output_type": "display_data"
    },
    {
     "data": {
      "application/vnd.jupyter.widget-view+json": {
       "model_id": "",
       "version_major": 2,
       "version_minor": 0
      },
      "text/plain": [
       "Downloading readme:   0%|          | 0.00/9.93k [00:00<?, ?B/s]"
      ]
     },
     "metadata": {},
     "output_type": "display_data"
    },
    {
     "name": "stdout",
     "output_type": "stream",
     "text": [
      "Downloading and preparing dataset rebel-dataset/REBEL (download: 1.39 GiB, generated: 1.12 GiB, post-processed: Unknown size, total: 2.50 GiB) to /Users/wfh/.cache/huggingface/datasets/Babelscape___rebel-dataset/REBEL/1.0.0/3c1f1de369845ba9f822bc11f2d1923231b4d43fd79780e79ed0aa5843504fbd...\n"
     ]
    },
    {
     "data": {
      "application/vnd.jupyter.widget-view+json": {
       "model_id": "",
       "version_major": 2,
       "version_minor": 0
      },
      "text/plain": [
       "Downloading data:   0%|          | 0.00/1.49G [00:00<?, ?B/s]"
      ]
     },
     "metadata": {},
     "output_type": "display_data"
    },
    {
     "data": {
      "application/vnd.jupyter.widget-view+json": {
       "model_id": "",
       "version_major": 2,
       "version_minor": 0
      },
      "text/plain": [
       "Generating train split:   0%|          | 0/3120296 [00:00<?, ? examples/s]"
      ]
     },
     "metadata": {},
     "output_type": "display_data"
    },
    {
     "data": {
      "application/vnd.jupyter.widget-view+json": {
       "model_id": "",
       "version_major": 2,
       "version_minor": 0
      },
      "text/plain": [
       "Generating validation split:   0%|          | 0/172860 [00:00<?, ? examples/s]"
      ]
     },
     "metadata": {},
     "output_type": "display_data"
    },
    {
     "data": {
      "application/vnd.jupyter.widget-view+json": {
       "model_id": "",
       "version_major": 2,
       "version_minor": 0
      },
      "text/plain": [
       "Generating test split:   0%|          | 0/173601 [00:00<?, ? examples/s]"
      ]
     },
     "metadata": {},
     "output_type": "display_data"
    },
    {
     "name": "stdout",
     "output_type": "stream",
     "text": [
      "Dataset rebel-dataset downloaded and prepared to /Users/wfh/.cache/huggingface/datasets/Babelscape___rebel-dataset/REBEL/1.0.0/3c1f1de369845ba9f822bc11f2d1923231b4d43fd79780e79ed0aa5843504fbd. Subsequent calls will reuse this data.\n"
     ]
    },
    {
     "data": {
      "application/vnd.jupyter.widget-view+json": {
       "model_id": "",
       "version_major": 2,
       "version_minor": 0
      },
      "text/plain": [
       "  0%|          | 0/3 [00:00<?, ?it/s]"
      ]
     },
     "metadata": {},
     "output_type": "display_data"
    }
   ],
   "source": [
    "from datasets import load_dataset\n",
    "dataset = load_dataset('Babelscape/rebel-dataset')"
   ]
  },
  {
   "cell_type": "code",
   "execution_count": null,
   "id": "ca5f4c14-649b-4716-a7be-1890494e1982",
   "metadata": {},
   "outputs": [
    {
     "data": {
      "text/plain": [
       "Dataset({\n",
       "    features: ['id', 'title', 'context', 'triplets'],\n",
       "    num_rows: 3120296\n",
       "})"
      ]
     },
     "execution_count": 17,
     "metadata": {},
     "output_type": "execute_result"
    }
   ],
   "source": [
    "dataset['train']"
   ]
  },
  {
   "cell_type": "code",
   "execution_count": 18,
   "id": "f3f0293d-9b71-481e-921e-843a52d6f26d",
   "metadata": {
    "tags": []
   },
   "outputs": [],
   "source": [
    "from langsmith import Client\n",
    "\n",
    "client = Client()"
   ]
  },
  {
   "cell_type": "code",
   "execution_count": null,
   "id": "90e3e12b-7ef8-4d6b-8f36-512e8393bc2f",
   "metadata": {},
   "outputs": [
    {
     "data": {
      "text/plain": [
       "\u001b[0;31mSignature:\u001b[0m\n",
       "\u001b[0mclient\u001b[0m\u001b[0;34m.\u001b[0m\u001b[0mupload_dataframe\u001b[0m\u001b[0;34m(\u001b[0m\u001b[0;34m\u001b[0m\n",
       "\u001b[0;34m\u001b[0m    \u001b[0mdf\u001b[0m\u001b[0;34m:\u001b[0m \u001b[0;34m'pd.DataFrame'\u001b[0m\u001b[0;34m,\u001b[0m\u001b[0;34m\u001b[0m\n",
       "\u001b[0;34m\u001b[0m    \u001b[0mname\u001b[0m\u001b[0;34m:\u001b[0m \u001b[0;34m'str'\u001b[0m\u001b[0;34m,\u001b[0m\u001b[0;34m\u001b[0m\n",
       "\u001b[0;34m\u001b[0m    \u001b[0minput_keys\u001b[0m\u001b[0;34m:\u001b[0m \u001b[0;34m'Sequence[str]'\u001b[0m\u001b[0;34m,\u001b[0m\u001b[0;34m\u001b[0m\n",
       "\u001b[0;34m\u001b[0m    \u001b[0moutput_keys\u001b[0m\u001b[0;34m:\u001b[0m \u001b[0;34m'Sequence[str]'\u001b[0m\u001b[0;34m,\u001b[0m\u001b[0;34m\u001b[0m\n",
       "\u001b[0;34m\u001b[0m    \u001b[0;34m*\u001b[0m\u001b[0;34m,\u001b[0m\u001b[0;34m\u001b[0m\n",
       "\u001b[0;34m\u001b[0m    \u001b[0mdescription\u001b[0m\u001b[0;34m:\u001b[0m \u001b[0;34m'Optional[str]'\u001b[0m \u001b[0;34m=\u001b[0m \u001b[0;32mNone\u001b[0m\u001b[0;34m,\u001b[0m\u001b[0;34m\u001b[0m\n",
       "\u001b[0;34m\u001b[0m    \u001b[0mdata_type\u001b[0m\u001b[0;34m:\u001b[0m \u001b[0;34m'Optional[DataType]'\u001b[0m \u001b[0;34m=\u001b[0m \u001b[0;34m<\u001b[0m\u001b[0mDataType\u001b[0m\u001b[0;34m.\u001b[0m\u001b[0mkv\u001b[0m\u001b[0;34m:\u001b[0m \u001b[0;34m'kv'\u001b[0m\u001b[0;34m>\u001b[0m\u001b[0;34m,\u001b[0m\u001b[0;34m\u001b[0m\n",
       "\u001b[0;34m\u001b[0m\u001b[0;34m)\u001b[0m \u001b[0;34m->\u001b[0m \u001b[0;34m'Dataset'\u001b[0m\u001b[0;34m\u001b[0m\u001b[0;34m\u001b[0m\u001b[0m\n",
       "\u001b[0;31mDocstring:\u001b[0m\n",
       "Upload a dataframe as individual examples to the LangSmith API.\n",
       "\n",
       "Parameters\n",
       "----------\n",
       "df : pd.DataFrame\n",
       "    The dataframe to upload.\n",
       "name : str\n",
       "    The name of the dataset.\n",
       "input_keys : Sequence[str]\n",
       "    The input keys.\n",
       "output_keys : Sequence[str]\n",
       "    The output keys.\n",
       "description : str or None, default=None\n",
       "    The description of the dataset.\n",
       "data_type : DataType or None, default=DataType.kv\n",
       "    The data type of the dataset.\n",
       "\n",
       "Returns\n",
       "-------\n",
       "Dataset\n",
       "    The uploaded dataset.\n",
       "\n",
       "Raises\n",
       "------\n",
       "ValueError\n",
       "    If the csv_file is not a string or tuple.\n",
       "\u001b[0;31mFile:\u001b[0m      ~/code/lc/langchainplus-sdk/python/langsmith/client.py\n",
       "\u001b[0;31mType:\u001b[0m      method"
      ]
     },
     "metadata": {},
     "output_type": "display_data"
    }
   ],
   "source": [
    "?client.upload_dataframe"
   ]
  },
  {
   "cell_type": "code",
   "execution_count": 37,
   "id": "55176360-06f5-4b8a-b3f3-3850fe554cd4",
   "metadata": {
    "tags": []
   },
   "outputs": [
    {
     "data": {
      "text/plain": [
       "Dataset(name='test-foo', description=None, data_type=<DataType.kv: 'kv'>, id=UUID('b9ebf406-8fe1-4230-8fe1-b2fd87d02ba8'), created_at=datetime.datetime(2023, 8, 18, 20, 0, 15, 241535), modified_at=None)"
      ]
     },
     "execution_count": 37,
     "metadata": {},
     "output_type": "execute_result"
    }
   ],
   "source": [
    "client.upload_dataframe(df, \"test-foo\", input_keys=[\"context\"], output_keys=[\"triplets\"])"
   ]
  },
  {
   "cell_type": "code",
   "execution_count": 36,
   "id": "b92631fa-5da4-4af0-adfe-bfee56d830d8",
   "metadata": {
    "tags": []
   },
   "outputs": [],
   "source": [
    "df = pd.DataFrame(train[:1000]).sample(100)"
   ]
  },
  {
   "cell_type": "code",
   "execution_count": 40,
   "id": "c35f48fb-b357-4446-9e7e-89e10a8ca7cc",
   "metadata": {
    "tags": []
   },
   "outputs": [],
   "source": [
    "import pandas as pd\n",
    "# train, dev, test = dataset['train'], dataset['validation'], dataset['test']\n",
    "\n",
    "def sample_and_upload(dataset, split, client, sample_size: int = 100):\n",
    "    dataset_name = f\"Rebel-linearized-{split}\"\n",
    "    sampled = pd.DataFrame(dataset[split][:2000]).sample(sample_size)\n",
    "    ds = client.upload_dataframe(\n",
    "                    sampled,\n",
    "                    dataset_name,\n",
    "                    input_keys=[\"context\"],\n",
    "                    output_keys=[\"triplets\"],\n",
    "        )\n",
    "    return ds\n",
    "    "
   ]
  },
  {
   "cell_type": "code",
   "execution_count": 48,
   "id": "a17aaa6a-754f-4d91-ac51-1d0ad8477db6",
   "metadata": {
    "tags": []
   },
   "outputs": [],
   "source": [
    "import pandas as pd\n",
    "\n",
    "for split in ['train', 'validation', 'test']:\n",
    "    name = f\"Rebel-linearized-{split}\"\n",
    "    examples = [{**x.inputs, **x.outputs} for x in client.list_examples(dataset_name=name)]\n",
    "    pd.DataFrame(examples).to_csv(f\"data/{name}.csv\", index=False)"
   ]
  },
  {
   "cell_type": "code",
   "execution_count": 43,
   "id": "f45436d9-d755-4d71-becf-a234b7696cde",
   "metadata": {
    "tags": []
   },
   "outputs": [],
   "source": [
    "ds = sample_and_upload(dataset, 'test', client)"
   ]
  },
  {
   "cell_type": "code",
   "execution_count": null,
   "id": "ed09c856-b37c-430e-bf58-af4d975085f2",
   "metadata": {},
   "outputs": [
    {
     "data": {
      "text/plain": [
       "['<triplet> Trinity Peninsula <subj> Graham Land <obj> part of <subj> Antarctica <obj> continent <triplet> Graham Land <subj> Antarctica <obj> continent',\n",
       " '<triplet> Trinity Peninsula <subj> Graham Land <obj> part of <triplet> Graham Land <subj> Antarctica <obj> continent',\n",
       " '<triplet> Harald Kaas <subj> 19 May 1868 <obj> date of birth <subj> 5 December 1953 <obj> date of death',\n",
       " '<triplet> Polytechnicum <subj> Munich <obj> headquarters location',\n",
       " '<triplet> Bergen Line <subj> Norwegian State Railways <obj> owned by']"
      ]
     },
     "execution_count": 12,
     "metadata": {},
     "output_type": "execute_result"
    }
   ],
   "source": [
    "dataset['test'][0:5]['triplets']"
   ]
  },
  {
   "cell_type": "code",
   "execution_count": 14,
   "id": "0bb620ac-7a17-4647-a29f-7d922f48979d",
   "metadata": {
    "tags": []
   },
   "outputs": [
    {
     "data": {
      "text/plain": [
       "[{'triplet': {'subj': 'Trinity',\n",
       "   'obj': '<subj> Antarctica',\n",
       "   'pred': 'Graham part continent'}},\n",
       " {'triplet': {'subj': 'Graham',\n",
       "   'obj': '<subj>',\n",
       "   'pred': 'Antarctica continent'}}]"
      ]
     },
     "execution_count": 14,
     "metadata": {},
     "output_type": "execute_result"
    }
   ],
   "source": [
    "transform_to_json(dataset['test'][0]['triplets'])"
   ]
  }
 ],
 "metadata": {
  "kernelspec": {
   "display_name": "Python 3 (ipykernel)",
   "language": "python",
   "name": "python3"
  },
  "language_info": {
   "codemirror_mode": {
    "name": "ipython",
    "version": 3
   },
   "file_extension": ".py",
   "mimetype": "text/x-python",
   "name": "python",
   "nbconvert_exporter": "python",
   "pygments_lexer": "ipython3",
   "version": "3.11.2"
  }
 },
 "nbformat": 4,
 "nbformat_minor": 5
}
